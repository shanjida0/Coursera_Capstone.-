{
 "cells": [
  {
   "cell_type": "markdown",
   "metadata": {},
   "source": [
    "# Question 1:\n"
   ]
  },
  {
   "cell_type": "markdown",
   "metadata": {},
   "source": [
    "# 1.1. Notebook book created"
   ]
  },
  {
   "cell_type": "code",
   "execution_count": 1,
   "metadata": {},
   "outputs": [
    {
     "name": "stdout",
     "output_type": "stream",
     "text": [
      "Libraries imported.\n"
     ]
    }
   ],
   "source": [
    "import numpy as np # library to handle data in a vectorized manner\n",
    "import pandas as pd # library for data analsysis\n",
    "import requests # Library for web scraping\n",
    "\n",
    "print('Libraries imported.')"
   ]
  },
  {
   "cell_type": "markdown",
   "metadata": {},
   "source": [
    "# 1.2. Web page scraped\n"
   ]
  },
  {
   "cell_type": "code",
   "execution_count": 11,
   "metadata": {},
   "outputs": [],
   "source": [
    "import requests\n",
    "from urllib.request import urlopen\n",
    "from bs4 import BeautifulSoup\n",
    "import ssl\n",
    "import csv"
   ]
  },
  {
   "cell_type": "code",
   "execution_count": 12,
   "metadata": {},
   "outputs": [],
   "source": [
    "# Ignore SSL certificate errors\n",
    "ctx = ssl.create_default_context()\n",
    "ctx.check_hostname = False\n",
    "ctx.verify_mode = ssl.CERT_NONE"
   ]
  },
  {
   "cell_type": "code",
   "execution_count": 13,
   "metadata": {},
   "outputs": [],
   "source": [
    "source = requests.get('https://en.wikipedia.org/wiki/List_of_postal_codes_of_Canada:_M').text\n",
    "\n",
    "soup = BeautifulSoup(source, 'lxml')"
   ]
  },
  {
   "cell_type": "markdown",
   "metadata": {},
   "source": [
    "# Processing-part-1: extracting raw table (from webpage)"
   ]
  },
  {
   "cell_type": "code",
   "execution_count": 20,
   "metadata": {},
   "outputs": [],
   "source": [
    "# extracting the raw table inside that webpage\n",
    "table = soup.find('table')\n",
    "\n",
    "Postcode      = []\n",
    "Borough       = []\n",
    "Neighbourhood = []\n",
    "\n",
    "# print(table)\n",
    "\n",
    "# extracting a clean form of the table\n",
    "for tr_cell in table.find_all('tr'):\n",
    "    \n",
    "    counter = 1\n",
    "    Postcode_var      = -1\n",
    "    Borough_var       = -1\n",
    "    Neighbourhood_var = -1\n",
    "    \n",
    "    for td_cell in tr_cell.find_all('td'):\n",
    "        if counter == 1: \n",
    "            Postcode_var = td_cell.text\n",
    "        if counter == 2: \n",
    "            Borough_var = td_cell.text\n",
    "            tag_a_Borough = td_cell.find('a')\n",
    "            \n",
    "        if counter == 3: \n",
    "            Neighbourhood_var = str(td_cell.text).strip()\n",
    "            tag_a_Neighbourhood = td_cell.find('a')\n",
    "            \n",
    "        counter +=1\n",
    "        \n",
    "        if (Postcode_var == 'Not assigned' or Borough_var == 'Not assigned' or Neighbourhood_var == 'Not assigned'):\n",
    "            \n",
    "            continue\n",
    "            \n",
    "           \n",
    "    try:\n",
    "        if ((tag_a_Borough is None) or (tag_a_Neighbourhood is None)):\n",
    "            \n",
    "            continue\n",
    "            \n",
    "            \n",
    "    except:\n",
    "        \n",
    "        pass\n",
    "    \n",
    "    if(Postcode_var == -1 or Borough_var == -1 or Neighbourhood_var == -1):\n",
    "        \n",
    "        continue\n",
    "        \n",
    "        \n",
    "        \n",
    "        \n",
    "        \n",
    "        \n",
    "    Postcode.append(Postcode_var)\n",
    "    Borough.append(Borough_var)\n",
    "    Neighbourhood.append(Neighbourhood_var)"
   ]
  },
  {
   "cell_type": "markdown",
   "metadata": {},
   "source": [
    "# Processing-part-2: integrating Postal codes with more than 1 neighbour"
   ]
  },
  {
   "cell_type": "code",
   "execution_count": 21,
   "metadata": {},
   "outputs": [
    {
     "name": "stdout",
     "output_type": "stream",
     "text": [
      "num of unique Postal codes: 78\n"
     ]
    }
   ],
   "source": [
    "unique_p = set(Postcode)\n",
    "print('num of unique Postal codes:', len(unique_p))\n",
    "Postcode_u      = []\n",
    "Borough_u       = []\n",
    "Neighbourhood_u = []\n",
    "\n",
    "\n",
    "for postcode_unique_element in unique_p:\n",
    "    p_var = ''; b_var = ''; n_var = ''; \n",
    "    for postcode_idx, postcode_element in enumerate(Postcode):\n",
    "        if postcode_unique_element == postcode_element:\n",
    "            p_var = postcode_element;\n",
    "            b_var = Borough[postcode_idx]\n",
    "            if n_var == '': \n",
    "                n_var = Neighbourhood[postcode_idx]\n",
    "            else:\n",
    "                n_var = n_var + ', ' + Neighbourhood[postcode_idx]\n",
    "    Postcode_u.append(p_var)\n",
    "    Borough_u.append(b_var)\n",
    "    Neighbourhood_u.append(n_var)"
   ]
  },
  {
   "cell_type": "markdown",
   "metadata": {},
   "source": [
    "# Post-processing: creating an appropriate Pandas Dataframe"
   ]
  },
  {
   "cell_type": "code",
   "execution_count": 22,
   "metadata": {},
   "outputs": [
    {
     "data": {
      "text/html": [
       "<div>\n",
       "<style scoped>\n",
       "    .dataframe tbody tr th:only-of-type {\n",
       "        vertical-align: middle;\n",
       "    }\n",
       "\n",
       "    .dataframe tbody tr th {\n",
       "        vertical-align: top;\n",
       "    }\n",
       "\n",
       "    .dataframe thead th {\n",
       "        text-align: right;\n",
       "    }\n",
       "</style>\n",
       "<table border=\"1\" class=\"dataframe\">\n",
       "  <thead>\n",
       "    <tr style=\"text-align: right;\">\n",
       "      <th></th>\n",
       "      <th>Postcode</th>\n",
       "      <th>Borough</th>\n",
       "      <th>Neighbourhood</th>\n",
       "    </tr>\n",
       "  </thead>\n",
       "  <tbody>\n",
       "    <tr>\n",
       "      <td>0</td>\n",
       "      <td>M3K</td>\n",
       "      <td>North York</td>\n",
       "      <td>CFB Toronto</td>\n",
       "    </tr>\n",
       "    <tr>\n",
       "      <td>1</td>\n",
       "      <td>M2M</td>\n",
       "      <td>North York</td>\n",
       "      <td>Newtonbrook, Willowdale</td>\n",
       "    </tr>\n",
       "    <tr>\n",
       "      <td>2</td>\n",
       "      <td>M2R</td>\n",
       "      <td>North York</td>\n",
       "      <td>Willowdale West</td>\n",
       "    </tr>\n",
       "    <tr>\n",
       "      <td>3</td>\n",
       "      <td>M5C</td>\n",
       "      <td>Downtown Toronto</td>\n",
       "      <td>St. James Town</td>\n",
       "    </tr>\n",
       "    <tr>\n",
       "      <td>4</td>\n",
       "      <td>M6P</td>\n",
       "      <td>West Toronto</td>\n",
       "      <td>High Park</td>\n",
       "    </tr>\n",
       "    <tr>\n",
       "      <td>5</td>\n",
       "      <td>M5L</td>\n",
       "      <td>Downtown Toronto</td>\n",
       "      <td>Commerce Court</td>\n",
       "    </tr>\n",
       "    <tr>\n",
       "      <td>6</td>\n",
       "      <td>M3L</td>\n",
       "      <td>North York</td>\n",
       "      <td>Downsview West</td>\n",
       "    </tr>\n",
       "    <tr>\n",
       "      <td>7</td>\n",
       "      <td>M1V</td>\n",
       "      <td>Scarborough</td>\n",
       "      <td>Agincourt North, Milliken</td>\n",
       "    </tr>\n",
       "    <tr>\n",
       "      <td>8</td>\n",
       "      <td>M5V</td>\n",
       "      <td>Downtown Toronto</td>\n",
       "      <td>CN Tower, King and Spadina, Railway Lands, Sou...</td>\n",
       "    </tr>\n",
       "    <tr>\n",
       "      <td>9</td>\n",
       "      <td>M3A</td>\n",
       "      <td>North York</td>\n",
       "      <td>Parkwoods</td>\n",
       "    </tr>\n",
       "    <tr>\n",
       "      <td>10</td>\n",
       "      <td>M1T</td>\n",
       "      <td>Scarborough</td>\n",
       "      <td>Tam O'Shanter</td>\n",
       "    </tr>\n",
       "    <tr>\n",
       "      <td>11</td>\n",
       "      <td>M2J</td>\n",
       "      <td>North York</td>\n",
       "      <td>Henry Farm</td>\n",
       "    </tr>\n",
       "    <tr>\n",
       "      <td>12</td>\n",
       "      <td>M9R</td>\n",
       "      <td>Etobicoke</td>\n",
       "      <td>Kingsview Village</td>\n",
       "    </tr>\n",
       "    <tr>\n",
       "      <td>13</td>\n",
       "      <td>M8V</td>\n",
       "      <td>Etobicoke</td>\n",
       "      <td>New Toronto</td>\n",
       "    </tr>\n",
       "  </tbody>\n",
       "</table>\n",
       "</div>"
      ],
      "text/plain": [
       "   Postcode           Borough  \\\n",
       "0       M3K        North York   \n",
       "1       M2M        North York   \n",
       "2       M2R        North York   \n",
       "3       M5C  Downtown Toronto   \n",
       "4       M6P      West Toronto   \n",
       "5       M5L  Downtown Toronto   \n",
       "6       M3L        North York   \n",
       "7       M1V       Scarborough   \n",
       "8       M5V  Downtown Toronto   \n",
       "9       M3A        North York   \n",
       "10      M1T       Scarborough   \n",
       "11      M2J        North York   \n",
       "12      M9R         Etobicoke   \n",
       "13      M8V         Etobicoke   \n",
       "\n",
       "                                        Neighbourhood  \n",
       "0                                         CFB Toronto  \n",
       "1                             Newtonbrook, Willowdale  \n",
       "2                                     Willowdale West  \n",
       "3                                      St. James Town  \n",
       "4                                           High Park  \n",
       "5                                      Commerce Court  \n",
       "6                                      Downsview West  \n",
       "7                           Agincourt North, Milliken  \n",
       "8   CN Tower, King and Spadina, Railway Lands, Sou...  \n",
       "9                                           Parkwoods  \n",
       "10                                      Tam O'Shanter  \n",
       "11                                         Henry Farm  \n",
       "12                                  Kingsview Village  \n",
       "13                                        New Toronto  "
      ]
     },
     "execution_count": 22,
     "metadata": {},
     "output_type": "execute_result"
    }
   ],
   "source": [
    "\n",
    "toronto_dict = {'Postcode':Postcode_u, 'Borough':Borough_u, 'Neighbourhood':Neighbourhood_u}\n",
    "df_toronto = pd.DataFrame.from_dict(toronto_dict)\n",
    "df_toronto.to_csv('toronto_part1.csv')\n",
    "df_toronto.head(14)"
   ]
  },
  {
   "cell_type": "markdown",
   "metadata": {},
   "source": [
    "# 1.3. Data transformed into pandas dataframe"
   ]
  },
  {
   "cell_type": "code",
   "execution_count": 23,
   "metadata": {},
   "outputs": [
    {
     "name": "stdout",
     "output_type": "stream",
     "text": [
      "<class 'pandas.core.frame.DataFrame'>\n",
      "Int64Index: 287 entries, 1 to 287\n",
      "Data columns (total 3 columns):\n",
      "PostalCode       287 non-null object\n",
      "Borough          287 non-null object\n",
      "Neighbourhood    287 non-null object\n",
      "dtypes: object(3)\n",
      "memory usage: 9.0+ KB\n"
     ]
    }
   ],
   "source": [
    "df.info()"
   ]
  },
  {
   "cell_type": "code",
   "execution_count": 24,
   "metadata": {},
   "outputs": [
    {
     "data": {
      "text/plain": [
       "(287, 3)"
      ]
     },
     "execution_count": 24,
     "metadata": {},
     "output_type": "execute_result"
    }
   ],
   "source": [
    "df.shape"
   ]
  }
 ],
 "metadata": {
  "kernelspec": {
   "display_name": "Python 3",
   "language": "python",
   "name": "python3"
  },
  "language_info": {
   "codemirror_mode": {
    "name": "ipython",
    "version": 3
   },
   "file_extension": ".py",
   "mimetype": "text/x-python",
   "name": "python",
   "nbconvert_exporter": "python",
   "pygments_lexer": "ipython3",
   "version": "3.7.4"
  }
 },
 "nbformat": 4,
 "nbformat_minor": 2
}
