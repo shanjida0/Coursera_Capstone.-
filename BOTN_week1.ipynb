{
 "cells": [
  {
   "cell_type": "markdown",
   "metadata": {},
   "source": [
    "# 1. Description of the Business Problem & Discussion of the Background:"
   ]
  },
  {
   "cell_type": "markdown",
   "metadata": {},
   "source": [
    "# Business problem"
   ]
  },
  {
   "cell_type": "markdown",
   "metadata": {},
   "source": [
    "An international business man  wants to start his restaurant business in North America. After tons of research, he is finally select Toronto. Toronto is very diverse and is the financial capitals of their respective countries. He thinks the safest way is to compare the neighborhoods of the two cities and determine how similar or dissimilar they are. And then he can get more helpful information for him making decisions."
   ]
  },
  {
   "cell_type": "markdown",
   "metadata": {},
   "source": [
    "# Data description"
   ]
  },
  {
   "cell_type": "markdown",
   "metadata": {},
   "source": [
    "Firstly, we need to fetch and explore neighborhoods data of those two cities from Foursquare API. The information we want to focus on are restaurants, coffee shops and entertainment venues. We will choose one neighborhood from the city:Downtown for Toronto. We need to apply Neighborhood Segmentation and Clustering to analyzing the neighborhood data and prioritize the best restaurant location in this city based on foot traffic and type of restaurants. Lastly, we can decide which is the better place for hte businessman to get start."
   ]
  },
  {
   "cell_type": "code",
   "execution_count": null,
   "metadata": {},
   "outputs": [],
   "source": []
  }
 ],
 "metadata": {
  "kernelspec": {
   "display_name": "Python 3",
   "language": "python",
   "name": "python3"
  },
  "language_info": {
   "codemirror_mode": {
    "name": "ipython",
    "version": 3
   },
   "file_extension": ".py",
   "mimetype": "text/x-python",
   "name": "python",
   "nbconvert_exporter": "python",
   "pygments_lexer": "ipython3",
   "version": "3.7.4"
  }
 },
 "nbformat": 4,
 "nbformat_minor": 2
}
